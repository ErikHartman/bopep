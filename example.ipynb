{
 "cells": [
  {
   "cell_type": "markdown",
   "metadata": {},
   "source": [
    "## Generating embeddings"
   ]
  },
  {
   "cell_type": "code",
   "execution_count": 1,
   "metadata": {},
   "outputs": [
    {
     "name": "stdout",
     "output_type": "stream",
     "text": [
      "GPU not available. Model remains on CPU.\n"
     ]
    },
    {
     "name": "stderr",
     "output_type": "stream",
     "text": [
      "Generating embeddings: 100%|██████████| 1/1 [00:01<00:00,  1.82s/it]\n"
     ]
    }
   ],
   "source": [
    "from src.embeddings.embed import embed\n",
    "import pandas as pd\n",
    "\n",
    "peptide_sequences = pd.read_csv(\"data/test_data.csv\")[\"peptide\"].tolist()[0:50]\n",
    "peptide_embeddings = embed(peptide_sequences)"
   ]
  },
  {
   "cell_type": "markdown",
   "metadata": {},
   "source": [
    "## Running BO\n",
    "\n",
    "This is a fairly costly process! To run 3500 dockings, we used 4 T4 GPUs for approximately 72 hours."
   ]
  },
  {
   "cell_type": "code",
   "execution_count": null,
   "metadata": {},
   "outputs": [],
   "source": [
    "from src.run import run_bayesian_optimization\n",
    "\n",
    "run_bayesian_optimization(\n",
    "    peptide_embeddings,\n",
    "    target_structure=\"./data/4glp.pdb\",\n",
    "    output_dir=\"./data/output\",\n",
    "    n_initial=3,\n",
    "    n_exploration_iterations=2,\n",
    "    n_exploitation_iterations=2,\n",
    "    batch_size=1,\n",
    "    num_recycles=0,\n",
    "    num_models=1,\n",
    "    amber=True,\n",
    ")"
   ]
  }
 ],
 "metadata": {
  "kernelspec": {
   "display_name": ".venv",
   "language": "python",
   "name": "python3"
  },
  "language_info": {
   "codemirror_mode": {
    "name": "ipython",
    "version": 3
   },
   "file_extension": ".py",
   "mimetype": "text/x-python",
   "name": "python",
   "nbconvert_exporter": "python",
   "pygments_lexer": "ipython3",
   "version": "3.10.15"
  }
 },
 "nbformat": 4,
 "nbformat_minor": 2
}
