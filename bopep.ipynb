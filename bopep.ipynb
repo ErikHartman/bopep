{
 "cells": [
  {
   "cell_type": "markdown",
   "metadata": {
    "colab_type": "text",
    "id": "view-in-github"
   },
   "source": [
    "<a href=\"https://colab.research.google.com/github/ErikHartman/bopep/blob/main/bopep.ipynb\" target=\"_parent\"><img src=\"https://colab.research.google.com/assets/colab-badge.svg\" alt=\"Open In Colab\"/></a>"
   ]
  },
  {
   "cell_type": "markdown",
   "metadata": {
    "id": "X2L-Q7cEeUXx"
   },
   "source": [
    "# bopep: identifying peptide binders in large scale peptidomic data\n",
    "\n",
    "Bayesian optimization guided search for binders in large scale peptidomic datasets.\n",
    "\n",
    "Relies on ESM2 for peptide embeddings, ColabFold utilizing AlphaFold 2 multimer for docking and PyRosetta for interface energy calculations. A deep ensemble is used as a surrogate model utilizing Torch."
   ]
  },
  {
   "cell_type": "code",
   "execution_count": null,
   "metadata": {
    "colab": {
     "base_uri": "https://localhost:8080/"
    },
    "id": "wX-T-BaXe8NS",
    "outputId": "b86e19da-411c-49d9-ee8a-cb3ce74cf91c"
   },
   "outputs": [
    {
     "name": "stdout",
     "output_type": "stream",
     "text": [
      "Fetching bopep\n",
      "Cloning into '/content/bopep'...\n",
      "remote: Enumerating objects: 31, done.\u001b[K\n",
      "remote: Counting objects: 100% (31/31), done.\u001b[K\n",
      "remote: Compressing objects: 100% (28/28), done.\u001b[K\n",
      "remote: Total 31 (delta 8), reused 16 (delta 1), pack-reused 0 (from 0)\u001b[K\n",
      "Receiving objects: 100% (31/31), 21.04 KiB | 742.00 KiB/s, done.\n",
      "Resolving deltas: 100% (8/8), done.\n",
      "Installing ColabFold\n",
      "\u001b[2K   \u001b[90m━━━━━━━━━━━━━━━━━━━━━━━━━━━━━━━━━━━━━━━━\u001b[0m \u001b[32m65.0/65.0 kB\u001b[0m \u001b[31m1.7 MB/s\u001b[0m eta \u001b[36m0:00:00\u001b[0m\n",
      "\u001b[2K   \u001b[90m━━━━━━━━━━━━━━━━━━━━━━━━━━━━━━━━━━━━━━━━\u001b[0m \u001b[32m360.3/360.3 kB\u001b[0m \u001b[31m8.5 MB/s\u001b[0m eta \u001b[36m0:00:00\u001b[0m\n",
      "\u001b[2K   \u001b[90m━━━━━━━━━━━━━━━━━━━━━━━━━━━━━━━━━━━━━━━━\u001b[0m \u001b[32m3.1/3.1 MB\u001b[0m \u001b[31m46.8 MB/s\u001b[0m eta \u001b[36m0:00:00\u001b[0m\n",
      "\u001b[2K   \u001b[90m━━━━━━━━━━━━━━━━━━━━━━━━━━━━━━━━━━━━━━━━\u001b[0m \u001b[32m12.1/12.1 MB\u001b[0m \u001b[31m40.3 MB/s\u001b[0m eta \u001b[36m0:00:00\u001b[0m\n",
      "\u001b[2K   \u001b[90m━━━━━━━━━━━━━━━━━━━━━━━━━━━━━━━━━━━━━━━━\u001b[0m \u001b[32m230.0/230.0 MB\u001b[0m \u001b[31m5.0 MB/s\u001b[0m eta \u001b[36m0:00:00\u001b[0m\n",
      "\u001b[2K   \u001b[90m━━━━━━━━━━━━━━━━━━━━━━━━━━━━━━━━━━━━━━━━\u001b[0m \u001b[32m1.2/1.2 MB\u001b[0m \u001b[31m33.0 MB/s\u001b[0m eta \u001b[36m0:00:00\u001b[0m\n",
      "\u001b[2K   \u001b[90m━━━━━━━━━━━━━━━━━━━━━━━━━━━━━━━━━━━━━━━━\u001b[0m \u001b[32m5.5/5.5 MB\u001b[0m \u001b[31m62.0 MB/s\u001b[0m eta \u001b[36m0:00:00\u001b[0m\n",
      "\u001b[?25h\u001b[31mERROR: pip's dependency resolver does not currently take into account all the packages that are installed. This behaviour is the source of the following dependency conflicts.\n",
      "cudf-cu12 24.10.1 requires pandas<2.2.3dev0,>=2.0, but you have pandas 1.5.3 which is incompatible.\n",
      "google-colab 1.0.0 requires pandas==2.2.2, but you have pandas 1.5.3 which is incompatible.\n",
      "mizani 0.13.0 requires pandas>=2.2.0, but you have pandas 1.5.3 which is incompatible.\n",
      "opentelemetry-api 1.28.0 requires importlib-metadata<=8.5.0,>=6.0, but you have importlib-metadata 4.13.0 which is incompatible.\n",
      "plotnine 0.14.1 requires pandas>=2.2.0, but you have pandas 1.5.3 which is incompatible.\n",
      "tensorflow 2.17.0 requires tensorboard<2.18,>=2.17, but you have tensorboard 2.18.0 which is incompatible.\n",
      "xarray 2024.10.0 requires pandas>=2.1, but you have pandas 1.5.3 which is incompatible.\u001b[0m\u001b[31m\n",
      "\u001b[0mInstalling esm-fair and fetching ESM model\n",
      "\u001b[2K   \u001b[90m━━━━━━━━━━━━━━━━━━━━━━━━━━━━━━━━━━━━━━━━\u001b[0m \u001b[32m93.1/93.1 kB\u001b[0m \u001b[31m3.6 MB/s\u001b[0m eta \u001b[36m0:00:00\u001b[0m\n",
      "\u001b[?25hDownloading ESM model...\n"
     ]
    },
    {
     "name": "stderr",
     "output_type": "stream",
     "text": [
      "Downloading: \"https://dl.fbaipublicfiles.com/fair-esm/models/esm2_t33_650M_UR50D.pt\" to /root/.cache/torch/hub/checkpoints/esm2_t33_650M_UR50D.pt\n",
      "Downloading: \"https://dl.fbaipublicfiles.com/fair-esm/regression/esm2_t33_650M_UR50D-contact-regression.pt\" to /root/.cache/torch/hub/checkpoints/esm2_t33_650M_UR50D-contact-regression.pt\n"
     ]
    },
    {
     "name": "stdout",
     "output_type": "stream",
     "text": [
      "Installing PyRosetta\n",
      "Collecting pyrosettacolabsetup\n",
      "  Downloading pyrosettacolabsetup-1.0.9-py3-none-any.whl.metadata (294 bytes)\n",
      "Downloading pyrosettacolabsetup-1.0.9-py3-none-any.whl (4.9 kB)\n",
      "Installing collected packages: pyrosettacolabsetup\n",
      "Successfully installed pyrosettacolabsetup-1.0.9\n",
      "\n",
      "Note that USE OF PyRosetta FOR COMMERCIAL PURPOSES REQUIRE PURCHASE OF A LICENSE.\n",
      "See https://github.com/RosettaCommons/rosetta/blob/main/LICENSE.md or email license@uw.edu for details.\n",
      "\n",
      "Looking for compatible PyRosetta wheel file at google-drive/PyRosetta/colab.bin//wheels.serialization...\n",
      "Downloading PyRosetta package...\n",
      "\n",
      "Resolving west.rosettacommons.org (west.rosettacommons.org)... 128.95.160.153, 2607:4000:406::160:153\n",
      "\n",
      "HTTP request sent, awaiting response... 302 Found\n",
      "Location: https://west.rosettacommons.org/pyrosetta/release/release/PyRosetta4.Release.python310.ubuntu.cxx11thread.serialization.wheel/pyrosetta-2024.42+release.3366cf78a3-cp310-cp310-linux_x86_64.whl [following]\n",
      "--2024-11-13 04:04:20--  https://west.rosettacommons.org/pyrosetta/release/release/PyRosetta4.Release.python310.ubuntu.cxx11thread.serialization.wheel/pyrosetta-2024.42+release.3366cf78a3-cp310-cp310-linux_x86_64.whl\n",
      "\n",
      "HTTP request sent, awaiting response... 200 OK\n",
      "Length: 1576918002 (1.5G)\n",
      "--2024-11-13 04:04:20--  https://west.rosettacommons.org/pyrosetta/release/release/PyRosetta4.Release.python310.ubuntu.cxx11thread.serialization.wheel/pyrosetta-2024.42+release.3366cf78a3-cp310-cp310-linux_x86_64.whl\n",
      "Reusing existing connection to west.rosettacommons.org:443.\n",
      "HTTP request sent, awaiting response... 200 OK\n",
      "Length: 1576918002 (1.5G)\n",
      "Saving to: ‘/PyRosetta/colab.bin/tmp7vifvpf5/pyrosetta-2024.42+release.3366cf78a3-cp310-cp310-linux_x86_64.whl’\n",
      "\n",
      "pyrosetta-2024.42+r 100%[===================>]   1.47G  8.04MB/s    in 4m 47s  \n",
      "\n",
      "2024-11-13 04:09:08 (5.23 MB/s) - ‘/PyRosetta/colab.bin/tmp7vifvpf5/pyrosetta-2024.42+release.3366cf78a3-cp310-cp310-linux_x86_64.whl’ saved [1576918002/1576918002]\n",
      "Moving wheel file pyrosetta-2024.42+release.3366cf78a3-cp310-cp310-linux_x86_64.whl to target dir /PyRosetta/colab.bin/wheels.serialization...\n",
      "Installing PyRosetta wheel '/PyRosetta/colab.bin/wheels.serialization/pyrosetta-2024.42+release.3366cf78a3-cp310-cp310-linux_x86_64.whl'...\n",
      "\n",
      "\n",
      "Installing other necessary packages\n"
     ]
    }
   ],
   "source": [
    "#@title Installation\n",
    "\n",
    "import os\n",
    "\n",
    "print(\"Fetching bopep\")\n",
    "!git clone https://github.com/ErikHartman/bopep /content/bopep/\n",
    "\n",
    "print(\"Installing ColabFold\")\n",
    "!pip install --quiet colabfold\n",
    "!pip install --quiet biopython\n",
    "\n",
    "print(\"Installing esm-fair and fetching ESM model\")\n",
    "!pip install --quiet fair-esm\n",
    "\n",
    "# Code to fetch ESM model if it doesn't already exist\n",
    "esm_model_path = \"/root/.cache/torch/hub/checkpoints/esm2_t33_650M_UR50D.pt\"\n",
    "if not os.path.exists(esm_model_path):\n",
    "    print(\"Downloading ESM model...\")\n",
    "    import esm\n",
    "    model, alphabet = esm.pretrained.esm2_t33_650M_UR50D()\n",
    "else:\n",
    "    print(\"ESM model already exists.\")\n",
    "\n",
    "print(\"Installing PyRosetta\")\n",
    "!pip install pyrosettacolabsetup\n",
    "import pyrosettacolabsetup\n",
    "pyrosettacolabsetup.install_pyrosetta(serialization=True, cache_wheel_on_google_drive=False)\n",
    "\n",
    "print(\"Installing other necessary packages\")\n",
    "!pip install -r https://raw.githubusercontent.com/ErikHartman/bopep/main/requirements.txt\n"
   ]
  },
  {
   "cell_type": "code",
   "execution_count": 4,
   "metadata": {
    "colab": {
     "base_uri": "https://localhost:8080/"
    },
    "id": "X-sd12-jfCBl",
    "outputId": "0107ef6b-8cdf-450e-c557-ebbd03f57f05"
   },
   "outputs": [
    {
     "name": "stdout",
     "output_type": "stream",
     "text": [
      "[Errno 2] No such file or directory: 'bopep'\n",
      "/content/bopep\n",
      "Data file: data/test_data.csv\n",
      "Max length: 30\n",
      "Min length: 5\n",
      "Max repeat length: 5\n",
      "Max single amino acid fraction: 0.75\n"
     ]
    }
   ],
   "source": [
    "#@title Embedding settings\n",
    "import pandas as pd\n",
    "\n",
    "%cd bopep\n",
    "\n",
    "# Data input\n",
    "data_file = \"data/test_data.csv\" #@param {type:\"string\"}\n",
    "data = pd.read_csv(data_file)  # Load the CSV file\n",
    "peptides = data[\"peptide\"].tolist()\n",
    "\n",
    "# Set maximum and minimum peptide length\n",
    "max_length = 30  #@param {type:\"slider\", min:1, max:100, step:1}\n",
    "min_length = 5   #@param {type:\"slider\", min:1, max:100, step:1}\n",
    "\n",
    "# Set maximum repeat length for amino acids\n",
    "max_repeat_length = 5  #@param {type:\"slider\", min:1, max:20, step:1}\n",
    "\n",
    "# Set maximum allowed fraction of single amino acids\n",
    "max_single_aa_fraction = 0.75  #@param {type:\"number\"}\n",
    "\n",
    "# Display settings\n",
    "print(f\"Data file: {data_file}\")\n",
    "print(f\"Max length: {max_length}\")\n",
    "print(f\"Min length: {min_length}\")\n",
    "print(f\"Max repeat length: {max_repeat_length}\")\n",
    "print(f\"Max single amino acid fraction: {max_single_aa_fraction}\")"
   ]
  },
  {
   "cell_type": "code",
   "execution_count": 2,
   "metadata": {
    "colab": {
     "base_uri": "https://localhost:8080/",
     "height": 393
    },
    "id": "duvhwIxSh338",
    "outputId": "0c0c338e-ea0d-48a5-d0a1-c392d2d2e5a4"
   },
   "outputs": [
    {
     "ename": "ModuleNotFoundError",
     "evalue": "No module named 'tqdm'",
     "output_type": "error",
     "traceback": [
      "\u001b[0;31m---------------------------------------------------------------------------\u001b[0m",
      "\u001b[0;31mModuleNotFoundError\u001b[0m                       Traceback (most recent call last)",
      "Cell \u001b[0;32mIn[2], line 2\u001b[0m\n\u001b[1;32m      1\u001b[0m \u001b[38;5;66;03m#@title Generate embeddings\u001b[39;00m\n\u001b[0;32m----> 2\u001b[0m \u001b[38;5;28;01mfrom\u001b[39;00m \u001b[38;5;21;01msrc\u001b[39;00m\u001b[38;5;21;01m.\u001b[39;00m\u001b[38;5;21;01membeddings\u001b[39;00m\u001b[38;5;21;01m.\u001b[39;00m\u001b[38;5;21;01membed\u001b[39;00m \u001b[38;5;28;01mimport\u001b[39;00m embed\n\u001b[1;32m      3\u001b[0m \u001b[38;5;28;01mfrom\u001b[39;00m \u001b[38;5;21;01msrc\u001b[39;00m\u001b[38;5;21;01m.\u001b[39;00m\u001b[38;5;21;01membeddings\u001b[39;00m\u001b[38;5;21;01m.\u001b[39;00m\u001b[38;5;21;01mutils\u001b[39;00m \u001b[38;5;28;01mimport\u001b[39;00m filter_peptides\n\u001b[1;32m      5\u001b[0m filtered_peptides \u001b[38;5;241m=\u001b[39m filter_peptides(peptides, max_single_aa_fraction, max_repeat_length, min_length, max_length)\n",
      "File \u001b[0;32m~/dev/bopep/src/embeddings/embed.py:2\u001b[0m\n\u001b[1;32m      1\u001b[0m \u001b[38;5;28;01mimport\u001b[39;00m \u001b[38;5;21;01mos\u001b[39;00m\n\u001b[0;32m----> 2\u001b[0m \u001b[38;5;28;01mfrom\u001b[39;00m \u001b[38;5;21;01mtqdm\u001b[39;00m \u001b[38;5;28;01mimport\u001b[39;00m tqdm\n\u001b[1;32m      3\u001b[0m \u001b[38;5;28;01mimport\u001b[39;00m \u001b[38;5;21;01mtorch\u001b[39;00m\n\u001b[1;32m      4\u001b[0m \u001b[38;5;28;01mimport\u001b[39;00m \u001b[38;5;21;01mesm\u001b[39;00m\n",
      "\u001b[0;31mModuleNotFoundError\u001b[0m: No module named 'tqdm'"
     ]
    }
   ],
   "source": [
    "#@title Generate embeddings\n",
    "from src.embeddings.embed import embed\n",
    "from src.embeddings.utils import filter_peptides\n",
    "\n",
    "filtered_peptides = filter_peptides(peptides, max_single_aa_fraction, max_repeat_length, min_length, max_length)\n",
    "emeddings = embed(filtered_peptides, model_path=esm_model_path)\n"
   ]
  },
  {
   "cell_type": "code",
   "execution_count": null,
   "metadata": {
    "id": "zz07Koj-fIWi"
   },
   "outputs": [],
   "source": [
    "#@title Bayesian optimization settings"
   ]
  },
  {
   "cell_type": "code",
   "execution_count": null,
   "metadata": {
    "id": "QKSu6-tsfP9l"
   },
   "outputs": [],
   "source": [
    "#@title Initialize PyRosetta"
   ]
  },
  {
   "cell_type": "code",
   "execution_count": null,
   "metadata": {
    "id": "4MDxL37ufKuH"
   },
   "outputs": [],
   "source": [
    "#@title Run bopep!"
   ]
  }
 ],
 "metadata": {
  "colab": {
   "authorship_tag": "ABX9TyPPBlePXGo9GsUrtRp4tKdr",
   "include_colab_link": true,
   "provenance": []
  },
  "kernelspec": {
   "display_name": ".venv",
   "language": "python",
   "name": "python3"
  },
  "language_info": {
   "codemirror_mode": {
    "name": "ipython",
    "version": 3
   },
   "file_extension": ".py",
   "mimetype": "text/x-python",
   "name": "python",
   "nbconvert_exporter": "python",
   "pygments_lexer": "ipython3",
   "version": "3.10.15"
  }
 },
 "nbformat": 4,
 "nbformat_minor": 0
}
