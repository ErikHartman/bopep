{
  "nbformat": 4,
  "nbformat_minor": 0,
  "metadata": {
    "colab": {
      "provenance": []
    },
    "kernelspec": {
      "name": "python3",
      "display_name": "Python 3"
    },
    "language_info": {
      "name": "python"
    }
  },
  "cells": [
    {
      "cell_type": "code",
      "execution_count": null,
      "metadata": {
        "id": "dVO2Gt4ReKe6"
      },
      "outputs": [],
      "source": []
    },
    {
      "cell_type": "markdown",
      "source": [
        "# bopep: identifying peptide binders in large scale peptidomic data\n",
        "\n",
        "Bayesian optimization guided search for binders in large scale peptidomic datasets.\n",
        "\n",
        "Relies on ESM2 for peptide embeddings, ColabFold utilizing AlphaFold 2 multimer for docking and PyRosetta for interface energy calculations. A deep ensemble is used as a surrogate model utilizing Torch."
      ],
      "metadata": {
        "id": "X2L-Q7cEeUXx"
      }
    },
    {
      "cell_type": "code",
      "source": [
        "#@title Installation"
      ],
      "metadata": {
        "id": "wX-T-BaXe8NS"
      },
      "execution_count": null,
      "outputs": []
    },
    {
      "cell_type": "code",
      "source": [
        "#@title Embedding settings"
      ],
      "metadata": {
        "id": "X-sd12-jfCBl"
      },
      "execution_count": null,
      "outputs": []
    },
    {
      "cell_type": "code",
      "source": [
        "#@title Bayesian optimization settings"
      ],
      "metadata": {
        "id": "zz07Koj-fIWi"
      },
      "execution_count": null,
      "outputs": []
    },
    {
      "cell_type": "code",
      "source": [],
      "metadata": {
        "id": "QKSu6-tsfP9l"
      },
      "execution_count": null,
      "outputs": []
    },
    {
      "cell_type": "code",
      "source": [
        "#@title Run bopep!"
      ],
      "metadata": {
        "id": "4MDxL37ufKuH"
      },
      "execution_count": null,
      "outputs": []
    }
  ]
}