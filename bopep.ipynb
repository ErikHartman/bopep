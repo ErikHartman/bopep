{
  "nbformat": 4,
  "nbformat_minor": 0,
  "metadata": {
    "colab": {
      "provenance": [],
      "authorship_tag": "ABX9TyMR1ZJIYN0eSv1bXxFEaHfW",
      "include_colab_link": true
    },
    "kernelspec": {
      "name": "python3",
      "display_name": "Python 3"
    },
    "language_info": {
      "name": "python"
    }
  },
  "cells": [
    {
      "cell_type": "markdown",
      "metadata": {
        "id": "view-in-github",
        "colab_type": "text"
      },
      "source": [
        "<a href=\"https://colab.research.google.com/github/ErikHartman/bopep/blob/main/bopep.ipynb\" target=\"_parent\"><img src=\"https://colab.research.google.com/assets/colab-badge.svg\" alt=\"Open In Colab\"/></a>"
      ]
    },
    {
      "cell_type": "markdown",
      "source": [
        "# bopep: identifying peptide binders in large scale peptidomic data\n",
        "\n",
        "Bayesian optimization guided search for binders in large scale peptidomic datasets.\n",
        "\n",
        "Relies on ESM2 for peptide embeddings, ColabFold utilizing AlphaFold 2 multimer for docking and PyRosetta for interface energy calculations. A deep ensemble is used as a surrogate model utilizing Torch."
      ],
      "metadata": {
        "id": "X2L-Q7cEeUXx"
      }
    },
    {
      "cell_type": "code",
      "source": [
        "#@title Installation\n",
        "\n",
        "import os, time, io\n",
        "import contextlib\n",
        "\n",
        "print(\"Fetching bopep\")\n",
        "!git clone https://github.com/ErikHartman/bopep /content/bopep/\n",
        "\n",
        "print(\"Installing ColabFold\")\n",
        "!pip install --quiet colabfold\n",
        "!pip install --quiet biopython\n",
        "\n",
        "print(\"Installing esm-fair and fetching ESM model\")\n",
        "!pip install --quiet fair-esm\n",
        "\n",
        "# Code to fetch ESM model if it doesn't already exist\n",
        "esm_model_path = \"/root/.cache/torch/hub/checkpoints/esm2_t33_650M_UR50D.pt\"\n",
        "if not os.path.exists(esm_model_path):\n",
        "    print(\"Downloading ESM model...\")\n",
        "    import esm\n",
        "    model, alphabet = esm.pretrained.esm2_t33_650M_UR50D()\n",
        "else:\n",
        "    print(\"ESM model already exists.\")\n",
        "\n",
        "print(\"Installing PyRosetta\")\n",
        "!pip install pyrosettacolabsetup\n",
        "import pyrosettacolabsetup\n",
        "pyrosettacolabsetup.install_pyrosetta(serialization=True, cache_wheel_on_google_drive=False)\n",
        "\n",
        "print(\"Installing other necessary packages\")\n",
        "!pip install -r https://raw.githubusercontent.com/ErikHartman/bopep/main/requirements.txt\n"
      ],
      "metadata": {
        "colab": {
          "base_uri": "https://localhost:8080/"
        },
        "id": "wX-T-BaXe8NS",
        "outputId": "d447bdf7-317e-436b-f03d-f0ff3d4e0cfe"
      },
      "execution_count": 10,
      "outputs": [
        {
          "output_type": "stream",
          "name": "stdout",
          "text": [
            "Fetching bopep\n",
            "fatal: destination path '/content/bopep' already exists and is not an empty directory.\n",
            "Installing ColabFold\n",
            "Installing esm-fair and fetching ESM model\n",
            "ESM model already exists.\n",
            "Installing PyRosetta\n",
            "Requirement already satisfied: pyrosettacolabsetup in /usr/local/lib/python3.10/dist-packages (1.0.9)\n",
            "Installing other necessary packages\n"
          ]
        }
      ]
    },
    {
      "cell_type": "code",
      "source": [
        "#@title Embedding settings"
      ],
      "metadata": {
        "id": "X-sd12-jfCBl"
      },
      "execution_count": null,
      "outputs": []
    },
    {
      "cell_type": "code",
      "source": [
        "#@title Generate embeddings"
      ],
      "metadata": {
        "id": "duvhwIxSh338"
      },
      "execution_count": null,
      "outputs": []
    },
    {
      "cell_type": "code",
      "source": [
        "#@title Bayesian optimization settings"
      ],
      "metadata": {
        "id": "zz07Koj-fIWi"
      },
      "execution_count": null,
      "outputs": []
    },
    {
      "cell_type": "code",
      "source": [
        "#@title Initialize PyRosetta"
      ],
      "metadata": {
        "id": "QKSu6-tsfP9l"
      },
      "execution_count": null,
      "outputs": []
    },
    {
      "cell_type": "code",
      "source": [
        "#@title Run bopep!"
      ],
      "metadata": {
        "id": "4MDxL37ufKuH"
      },
      "execution_count": null,
      "outputs": []
    }
  ]
}