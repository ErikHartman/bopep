{
  "cells": [
    {
      "cell_type": "markdown",
      "metadata": {
        "id": "view-in-github",
        "colab_type": "text"
      },
      "source": [
        "<a href=\"https://colab.research.google.com/github/ErikHartman/bopep/blob/main/bopep.ipynb\" target=\"_parent\"><img src=\"https://colab.research.google.com/assets/colab-badge.svg\" alt=\"Open In Colab\"/></a>"
      ]
    },
    {
      "cell_type": "markdown",
      "metadata": {
        "id": "X2L-Q7cEeUXx"
      },
      "source": [
        "# bopep: identifying peptide binders in large scale peptidomic data\n",
        "\n",
        "Bayesian optimization guided search for binders in large scale peptidomic datasets.\n",
        "\n",
        "Relies on ESM2 for peptide embeddings, ColabFold utilizing AlphaFold 2 multimer for docking and PyRosetta for interface energy calculations. A deep ensemble is used as a surrogate model utilizing Torch.\n",
        "\n",
        "Set runtime to T4 GPU."
      ]
    },
    {
      "cell_type": "code",
      "source": [
        "!pip install --upgrade pip"
      ],
      "metadata": {
        "id": "7e6JQrypnzdo",
        "outputId": "6179361d-ca3b-44cc-e342-0f3fb22a7674",
        "colab": {
          "base_uri": "https://localhost:8080/"
        }
      },
      "execution_count": 1,
      "outputs": [
        {
          "output_type": "stream",
          "name": "stdout",
          "text": [
            "Requirement already satisfied: pip in /usr/local/lib/python3.10/dist-packages (24.1.2)\n",
            "Collecting pip\n",
            "  Downloading pip-24.3.1-py3-none-any.whl.metadata (3.7 kB)\n",
            "Downloading pip-24.3.1-py3-none-any.whl (1.8 MB)\n",
            "\u001b[2K   \u001b[90m━━━━━━━━━━━━━━━━━━━━━━━━━━━━━━━━━━━━━━━━\u001b[0m \u001b[32m1.8/1.8 MB\u001b[0m \u001b[31m36.7 MB/s\u001b[0m eta \u001b[36m0:00:00\u001b[0m\n",
            "\u001b[?25hInstalling collected packages: pip\n",
            "  Attempting uninstall: pip\n",
            "    Found existing installation: pip 24.1.2\n",
            "    Uninstalling pip-24.1.2:\n",
            "      Successfully uninstalled pip-24.1.2\n",
            "Successfully installed pip-24.3.1\n"
          ]
        }
      ]
    },
    {
      "cell_type": "code",
      "execution_count": 2,
      "metadata": {
        "id": "wX-T-BaXe8NS",
        "colab": {
          "base_uri": "https://localhost:8080/"
        },
        "outputId": "0e3519af-12cd-4714-fcf8-023f0125e119"
      },
      "outputs": [
        {
          "output_type": "stream",
          "name": "stdout",
          "text": [
            "Fetching bopep\n",
            "Cloning into '/content/bopep'...\n",
            "remote: Enumerating objects: 96, done.\u001b[K\n",
            "remote: Counting objects: 100% (96/96), done.\u001b[K\n",
            "remote: Compressing objects: 100% (79/79), done.\u001b[K\n",
            "remote: Total 96 (delta 42), reused 57 (delta 15), pack-reused 0 (from 0)\u001b[K\n",
            "Receiving objects: 100% (96/96), 107.15 KiB | 5.64 MiB/s, done.\n",
            "Resolving deltas: 100% (42/42), done.\n",
            "Installing necessary packages using pip\n",
            "\u001b[2K   \u001b[90m━━━━━━━━━━━━━━━━━━━━━━━━━━━━━━━━━━━━━━━━\u001b[0m \u001b[32m3.2/3.2 MB\u001b[0m \u001b[31m56.2 MB/s\u001b[0m eta \u001b[36m0:00:00\u001b[0m\n",
            "\u001b[2K   \u001b[90m━━━━━━━━━━━━━━━━━━━━━━━━━━━━━━━━━━━━━━━━\u001b[0m \u001b[32m19.5/19.5 MB\u001b[0m \u001b[31m82.2 MB/s\u001b[0m eta \u001b[36m0:00:00\u001b[0m\n",
            "\u001b[2K   \u001b[90m━━━━━━━━━━━━━━━━━━━━━━━━━━━━━━━━━━━━━━━━\u001b[0m \u001b[32m13.1/13.1 MB\u001b[0m \u001b[31m51.8 MB/s\u001b[0m eta \u001b[36m0:00:00\u001b[0m\n",
            "\u001b[2K   \u001b[90m━━━━━━━━━━━━━━━━━━━━━━━━━━━━━━━━━━━━━━━━\u001b[0m \u001b[32m41.2/41.2 MB\u001b[0m \u001b[31m44.8 MB/s\u001b[0m eta \u001b[36m0:00:00\u001b[0m\n",
            "\u001b[2K   \u001b[90m━━━━━━━━━━━━━━━━━━━━━━━━━━━━━━━━━━━━━━━━\u001b[0m \u001b[32m797.1/797.1 MB\u001b[0m \u001b[31m36.4 MB/s\u001b[0m eta \u001b[36m0:00:00\u001b[0m\n",
            "\u001b[2K   \u001b[90m━━━━━━━━━━━━━━━━━━━━━━━━━━━━━━━━━━━━━━━━\u001b[0m \u001b[32m410.6/410.6 MB\u001b[0m \u001b[31m56.1 MB/s\u001b[0m eta \u001b[36m0:00:00\u001b[0m\n",
            "\u001b[2K   \u001b[90m━━━━━━━━━━━━━━━━━━━━━━━━━━━━━━━━━━━━━━━━\u001b[0m \u001b[32m14.1/14.1 MB\u001b[0m \u001b[31m136.8 MB/s\u001b[0m eta \u001b[36m0:00:00\u001b[0m\n",
            "\u001b[2K   \u001b[90m━━━━━━━━━━━━━━━━━━━━━━━━━━━━━━━━━━━━━━━━\u001b[0m \u001b[32m23.7/23.7 MB\u001b[0m \u001b[31m104.7 MB/s\u001b[0m eta \u001b[36m0:00:00\u001b[0m\n",
            "\u001b[2K   \u001b[90m━━━━━━━━━━━━━━━━━━━━━━━━━━━━━━━━━━━━━━━━\u001b[0m \u001b[32m823.6/823.6 kB\u001b[0m \u001b[31m37.7 MB/s\u001b[0m eta \u001b[36m0:00:00\u001b[0m\n",
            "\u001b[2K   \u001b[90m━━━━━━━━━━━━━━━━━━━━━━━━━━━━━━━━━━━━━━━━\u001b[0m \u001b[32m664.8/664.8 MB\u001b[0m \u001b[31m29.1 MB/s\u001b[0m eta \u001b[36m0:00:00\u001b[0m\n",
            "\u001b[2K   \u001b[90m━━━━━━━━━━━━━━━━━━━━━━━━━━━━━━━━━━━━━━━━\u001b[0m \u001b[32m121.6/121.6 MB\u001b[0m \u001b[31m62.2 MB/s\u001b[0m eta \u001b[36m0:00:00\u001b[0m\n",
            "\u001b[2K   \u001b[90m━━━━━━━━━━━━━━━━━━━━━━━━━━━━━━━━━━━━━━━━\u001b[0m \u001b[32m56.5/56.5 MB\u001b[0m \u001b[31m61.3 MB/s\u001b[0m eta \u001b[36m0:00:00\u001b[0m\n",
            "\u001b[2K   \u001b[90m━━━━━━━━━━━━━━━━━━━━━━━━━━━━━━━━━━━━━━━━\u001b[0m \u001b[32m124.2/124.2 MB\u001b[0m \u001b[31m62.9 MB/s\u001b[0m eta \u001b[36m0:00:00\u001b[0m\n",
            "\u001b[2K   \u001b[90m━━━━━━━━━━━━━━━━━━━━━━━━━━━━━━━━━━━━━━━━\u001b[0m \u001b[32m196.0/196.0 MB\u001b[0m \u001b[31m69.4 MB/s\u001b[0m eta \u001b[36m0:00:00\u001b[0m\n",
            "\u001b[2K   \u001b[90m━━━━━━━━━━━━━━━━━━━━━━━━━━━━━━━━━━━━━━━━\u001b[0m \u001b[32m176.2/176.2 MB\u001b[0m \u001b[31m55.0 MB/s\u001b[0m eta \u001b[36m0:00:00\u001b[0m\n",
            "\u001b[2K   \u001b[90m━━━━━━━━━━━━━━━━━━━━━━━━━━━━━━━━━━━━━━━━\u001b[0m \u001b[32m209.4/209.4 MB\u001b[0m \u001b[31m69.2 MB/s\u001b[0m eta \u001b[36m0:00:00\u001b[0m\n",
            "\u001b[?25h\u001b[31mERROR: pip's dependency resolver does not currently take into account all the packages that are installed. This behaviour is the source of the following dependency conflicts.\n",
            "cudf-cu12 24.10.1 requires pandas<2.2.3dev0,>=2.0, but you have pandas 2.2.3 which is incompatible.\n",
            "cupy-cuda12x 12.2.0 requires numpy<1.27,>=1.20, but you have numpy 2.0.2 which is incompatible.\n",
            "gensim 4.3.3 requires numpy<2.0,>=1.18.5, but you have numpy 2.0.2 which is incompatible.\n",
            "gensim 4.3.3 requires scipy<1.14.0,>=1.7.0, but you have scipy 1.14.1 which is incompatible.\n",
            "google-colab 1.0.0 requires pandas==2.2.2, but you have pandas 2.2.3 which is incompatible.\n",
            "langchain 0.3.7 requires numpy<2,>=1; python_version < \"3.12\", but you have numpy 2.0.2 which is incompatible.\n",
            "matplotlib 3.8.0 requires numpy<2,>=1.21, but you have numpy 2.0.2 which is incompatible.\n",
            "pytensor 2.25.5 requires numpy<2,>=1.17.0, but you have numpy 2.0.2 which is incompatible.\n",
            "tensorflow 2.17.0 requires numpy<2.0.0,>=1.23.5; python_version <= \"3.11\", but you have numpy 2.0.2 which is incompatible.\n",
            "thinc 8.2.5 requires numpy<2.0.0,>=1.19.0; python_version >= \"3.9\", but you have numpy 2.0.2 which is incompatible.\n",
            "torchaudio 2.5.0+cu121 requires torch==2.5.0, but you have torch 2.4.1 which is incompatible.\n",
            "torchvision 0.20.0+cu121 requires torch==2.5.0, but you have torch 2.4.1 which is incompatible.\u001b[0m\u001b[31m\n",
            "\u001b[0mInstalling ColabFold\n",
            "\u001b[2K   \u001b[90m━━━━━━━━━━━━━━━━━━━━━━━━━━━━━━━━━━━━━━━━\u001b[0m \u001b[32m3.1/3.1 MB\u001b[0m \u001b[31m93.1 MB/s\u001b[0m eta \u001b[36m0:00:00\u001b[0m\n",
            "\u001b[2K   \u001b[90m━━━━━━━━━━━━━━━━━━━━━━━━━━━━━━━━━━━━━━━━\u001b[0m \u001b[32m18.2/18.2 MB\u001b[0m \u001b[31m163.2 MB/s\u001b[0m eta \u001b[36m0:00:00\u001b[0m\n",
            "\u001b[2K   \u001b[90m━━━━━━━━━━━━━━━━━━━━━━━━━━━━━━━━━━━━━━━━\u001b[0m \u001b[32m12.1/12.1 MB\u001b[0m \u001b[31m145.4 MB/s\u001b[0m eta \u001b[36m0:00:00\u001b[0m\n",
            "\u001b[2K   \u001b[90m━━━━━━━━━━━━━━━━━━━━━━━━━━━━━━━━━━━━━━━━\u001b[0m \u001b[32m230.0/230.0 MB\u001b[0m \u001b[31m50.5 MB/s\u001b[0m eta \u001b[36m0:00:00\u001b[0m\n",
            "\u001b[2K   \u001b[90m━━━━━━━━━━━━━━━━━━━━━━━━━━━━━━━━━━━━━━━━\u001b[0m \u001b[32m1.2/1.2 MB\u001b[0m \u001b[31m64.2 MB/s\u001b[0m eta \u001b[36m0:00:00\u001b[0m\n",
            "\u001b[2K   \u001b[90m━━━━━━━━━━━━━━━━━━━━━━━━━━━━━━━━━━━━━━━━\u001b[0m \u001b[32m5.5/5.5 MB\u001b[0m \u001b[31m106.0 MB/s\u001b[0m eta \u001b[36m0:00:00\u001b[0m\n",
            "\u001b[?25h\u001b[31mERROR: pip's dependency resolver does not currently take into account all the packages that are installed. This behaviour is the source of the following dependency conflicts.\n",
            "cudf-cu12 24.10.1 requires pandas<2.2.3dev0,>=2.0, but you have pandas 1.5.3 which is incompatible.\n",
            "gensim 4.3.3 requires scipy<1.14.0,>=1.7.0, but you have scipy 1.14.1 which is incompatible.\n",
            "google-colab 1.0.0 requires pandas==2.2.2, but you have pandas 1.5.3 which is incompatible.\n",
            "mizani 0.13.0 requires pandas>=2.2.0, but you have pandas 1.5.3 which is incompatible.\n",
            "opentelemetry-api 1.28.0 requires importlib-metadata<=8.5.0,>=6.0, but you have importlib-metadata 4.13.0 which is incompatible.\n",
            "plotnine 0.14.1 requires pandas>=2.2.0, but you have pandas 1.5.3 which is incompatible.\n",
            "tensorflow 2.17.0 requires tensorboard<2.18,>=2.17, but you have tensorboard 2.18.0 which is incompatible.\n",
            "torchvision 0.20.0+cu121 requires torch==2.5.0, but you have torch 2.4.1 which is incompatible.\n",
            "xarray 2024.10.0 requires pandas>=2.1, but you have pandas 1.5.3 which is incompatible.\u001b[0m\u001b[31m\n",
            "\u001b[0mInstalling fair-esm\n",
            "Downloading ESM model...\n"
          ]
        },
        {
          "output_type": "stream",
          "name": "stderr",
          "text": [
            "Downloading: \"https://dl.fbaipublicfiles.com/fair-esm/models/esm2_t33_650M_UR50D.pt\" to /root/.cache/torch/hub/checkpoints/esm2_t33_650M_UR50D.pt\n",
            "Downloading: \"https://dl.fbaipublicfiles.com/fair-esm/regression/esm2_t33_650M_UR50D-contact-regression.pt\" to /root/.cache/torch/hub/checkpoints/esm2_t33_650M_UR50D-contact-regression.pt\n"
          ]
        },
        {
          "output_type": "stream",
          "name": "stdout",
          "text": [
            "Installing PyRosetta\n",
            "Collecting pyrosettacolabsetup\n",
            "  Downloading pyrosettacolabsetup-1.0.9-py3-none-any.whl.metadata (294 bytes)\n",
            "Downloading pyrosettacolabsetup-1.0.9-py3-none-any.whl (4.9 kB)\n",
            "Installing collected packages: pyrosettacolabsetup\n",
            "Successfully installed pyrosettacolabsetup-1.0.9\n",
            "\n",
            "Note that USE OF PyRosetta FOR COMMERCIAL PURPOSES REQUIRE PURCHASE OF A LICENSE.\n",
            "See https://github.com/RosettaCommons/rosetta/blob/main/LICENSE.md or email license@uw.edu for details.\n",
            "\n",
            "Looking for compatible PyRosetta wheel file at google-drive/PyRosetta/colab.bin//wheels.serialization...\n",
            "Downloading PyRosetta package...\n",
            "\n",
            "Resolving west.rosettacommons.org (west.rosettacommons.org)... 128.95.160.153, 2607:4000:406::160:153\n",
            "\n",
            "HTTP request sent, awaiting response... 302 Found\n",
            "Location: https://west.rosettacommons.org/pyrosetta/release/release/PyRosetta4.Release.python310.ubuntu.cxx11thread.serialization.wheel/pyrosetta-2024.42+release.3366cf78a3-cp310-cp310-linux_x86_64.whl [following]\n",
            "--2024-11-13 08:31:49--  https://west.rosettacommons.org/pyrosetta/release/release/PyRosetta4.Release.python310.ubuntu.cxx11thread.serialization.wheel/pyrosetta-2024.42+release.3366cf78a3-cp310-cp310-linux_x86_64.whl\n",
            "\n",
            "HTTP request sent, awaiting response... 200 OK\n",
            "Length: 1576918002 (1.5G)\n",
            "--2024-11-13 08:31:49--  https://west.rosettacommons.org/pyrosetta/release/release/PyRosetta4.Release.python310.ubuntu.cxx11thread.serialization.wheel/pyrosetta-2024.42+release.3366cf78a3-cp310-cp310-linux_x86_64.whl\n",
            "Reusing existing connection to west.rosettacommons.org:443.\n",
            "HTTP request sent, awaiting response... 200 OK\n",
            "Length: 1576918002 (1.5G)\n",
            "Saving to: ‘/PyRosetta/colab.bin/tmpad7_bdid/pyrosetta-2024.42+release.3366cf78a3-cp310-cp310-linux_x86_64.whl’\n",
            "\n",
            "pyrosetta-2024.42+r 100%[===================>]   1.47G  10.6MB/s    in 2m 53s  \n",
            "\n",
            "2024-11-13 08:34:43 (8.68 MB/s) - ‘/PyRosetta/colab.bin/tmpad7_bdid/pyrosetta-2024.42+release.3366cf78a3-cp310-cp310-linux_x86_64.whl’ saved [1576918002/1576918002]\n",
            "Moving wheel file pyrosetta-2024.42+release.3366cf78a3-cp310-cp310-linux_x86_64.whl to target dir /PyRosetta/colab.bin/wheels.serialization...\n",
            "Installing PyRosetta wheel '/PyRosetta/colab.bin/wheels.serialization/pyrosetta-2024.42+release.3366cf78a3-cp310-cp310-linux_x86_64.whl'...\n",
            "\n",
            "\n"
          ]
        }
      ],
      "source": [
        "#@title Installation\n",
        "\n",
        "import os\n",
        "\n",
        "print(\"Fetching bopep\")\n",
        "!git clone https://github.com/ErikHartman/bopep /content/bopep/\n",
        "\n",
        "print(\"Installing necessary packages using pip\")\n",
        "!pip install -r  /content/bopep/requirements.txt --quiet\n",
        "\n",
        "print(\"Installing ColabFold\")\n",
        "!pip install --quiet colabfold\n",
        "\n",
        "print(\"Installing fair-esm\")\n",
        "!pip install --quiet fair-esm\n",
        "\n",
        "# Code to fetch ESM model if it doesn't already exist\n",
        "esm_model_path = \"/root/.cache/torch/hub/checkpoints/esm2_t33_650M_UR50D.pt\"\n",
        "if not os.path.exists(esm_model_path):\n",
        "    print(\"Downloading ESM model...\")\n",
        "    import esm\n",
        "    model, alphabet = esm.pretrained.esm2_t33_650M_UR50D()\n",
        "else:\n",
        "    print(\"ESM model already exists.\")\n",
        "\n",
        "print(\"Installing PyRosetta\")\n",
        "!pip install pyrosettacolabsetup\n",
        "import pyrosettacolabsetup\n",
        "pyrosettacolabsetup.install_pyrosetta(serialization=True, cache_wheel_on_google_drive=False)\n"
      ]
    },
    {
      "cell_type": "code",
      "execution_count": 3,
      "metadata": {
        "id": "X-sd12-jfCBl",
        "colab": {
          "base_uri": "https://localhost:8080/"
        },
        "outputId": "fdcbe5dc-ea95-41f5-a660-384bce65a67e"
      },
      "outputs": [
        {
          "output_type": "stream",
          "name": "stdout",
          "text": [
            "/content/bopep\n"
          ]
        }
      ],
      "source": [
        "#@title Embedding settings\n",
        "import pandas as pd\n",
        "\n",
        "%cd bopep\n",
        "\n",
        "# Data input\n",
        "# @markdown Upload your input data file and set the path.\n",
        "data_file = \"/content/bopep/data/test_data.csv\" #@param {type:\"string\"}\n",
        "\n",
        "if not os.path.exists(data_file):\n",
        "  raise ValueError(\"The data file does not exist in the path.\")\n",
        "\n",
        "data = pd.read_csv(data_file)  # Load the CSV file\n",
        "peptides = data[\"peptide\"].tolist()\n",
        "# @markdown  ### Filtering options:\n",
        "\n",
        "# @markdown Set maximum and minimum peptide length\n",
        "max_length = 30  #@param {type:\"slider\", min:10, max:60, step:1}\n",
        "min_length = 5   #@param {type:\"slider\", min:1, max:30, step:1}\n",
        "\n",
        "# @markdown Set maximum repeat length for amino acids\n",
        "max_repeat_length = 5  #@param {type:\"slider\", min:1, max:15, step:1}\n",
        "\n",
        "# @markdown  Set maximum allowed fraction of single amino acids\n",
        "max_single_aa_fraction = 0.73  #@param {type:\"slider\", min:0, max:1, step:0.01}\n",
        "\n",
        "# @markdown  Variance kept during PCA reduction\n",
        "pca_variance = 0.95  #@param {type:\"slider\", min:0.1, max:1, step:0.01}\n"
      ]
    },
    {
      "cell_type": "code",
      "execution_count": 4,
      "metadata": {
        "id": "duvhwIxSh338",
        "colab": {
          "base_uri": "https://localhost:8080/"
        },
        "outputId": "99266c63-5953-4a13-c165-917c6af86c5d"
      },
      "outputs": [
        {
          "output_type": "stream",
          "name": "stderr",
          "text": [
            "/usr/local/lib/python3.10/dist-packages/esm/pretrained.py:70: FutureWarning: You are using `torch.load` with `weights_only=False` (the current default value), which uses the default pickle module implicitly. It is possible to construct malicious pickle data which will execute arbitrary code during unpickling (See https://github.com/pytorch/pytorch/blob/main/SECURITY.md#untrusted-models for more details). In a future release, the default value for `weights_only` will be flipped to `True`. This limits the functions that could be executed during unpickling. Arbitrary objects will no longer be allowed to be loaded via this mode unless they are explicitly allowlisted by the user via `torch.serialization.add_safe_globals`. We recommend you start setting `weights_only=True` for any use case where you don't have full control of the loaded file. Please open an issue on GitHub for any issues related to this experimental feature.\n",
            "  model_data = torch.load(str(model_location), map_location=\"cpu\")\n",
            "/usr/local/lib/python3.10/dist-packages/esm/pretrained.py:74: FutureWarning: You are using `torch.load` with `weights_only=False` (the current default value), which uses the default pickle module implicitly. It is possible to construct malicious pickle data which will execute arbitrary code during unpickling (See https://github.com/pytorch/pytorch/blob/main/SECURITY.md#untrusted-models for more details). In a future release, the default value for `weights_only` will be flipped to `True`. This limits the functions that could be executed during unpickling. Arbitrary objects will no longer be allowed to be loaded via this mode unless they are explicitly allowlisted by the user via `torch.serialization.add_safe_globals`. We recommend you start setting `weights_only=True` for any use case where you don't have full control of the loaded file. Please open an issue on GitHub for any issues related to this experimental feature.\n",
            "  regression_data = torch.load(regression_location, map_location=\"cpu\")\n"
          ]
        },
        {
          "output_type": "stream",
          "name": "stdout",
          "text": [
            "Model moved to GPU.\n"
          ]
        },
        {
          "output_type": "stream",
          "name": "stderr",
          "text": [
            "Generating embeddings: 100%|██████████| 16/16 [00:12<00:00,  1.28it/s]\n"
          ]
        },
        {
          "output_type": "stream",
          "name": "stdout",
          "text": [
            "Reduced embedding size: (1000, 96) (before PCA: (1000, 1280))\n"
          ]
        }
      ],
      "source": [
        "#@title Generate embeddings\n",
        "from src.embeddings.embed import embed\n",
        "from src.embeddings.utils import filter_peptides\n",
        "from sklearn.decomposition import PCA\n",
        "import numpy as np\n",
        "\n",
        "filtered_peptides = filter_peptides(peptides, max_single_aa_fraction, max_repeat_length, min_length, max_length)\n",
        "embeddings = embed(filtered_peptides, model_path=esm_model_path)\n",
        "\n",
        "if pca_variance < 1:\n",
        "  embedding_array = np.array(list(embeddings.values()))\n",
        "  peptide_sequences = list(embeddings.keys())\n",
        "  pca = PCA(n_components=0.95, svd_solver=\"full\")\n",
        "  embeddings_reduced = pca.fit_transform(embedding_array)\n",
        "  print(f\"Reduced embedding size: {np.shape(embeddings_reduced)} (before PCA: {np.shape(embedding_array)})\")\n",
        "  embeddings = {\n",
        "      peptide_sequences[i]: embeddings_reduced[i] for i in range(len(peptide_sequences))\n",
        "  }\n"
      ]
    },
    {
      "cell_type": "code",
      "execution_count": 5,
      "metadata": {
        "id": "zz07Koj-fIWi"
      },
      "outputs": [],
      "source": [
        "#@title Bayesian optimization settings\n",
        "\n",
        "# Target structure file (PDB format)\n",
        "target_structure = \"/content/bopep/data/4glp.pdb\"  #@param {type:\"string\"}\n",
        "\n",
        "# @markdown Model settings\n",
        "num_recycles = 9  #@param {type:\"slider\", min:1, max:20, step:1}  # Number of recycles for AlphaFold\n",
        "num_relax = 1  #@param {type:\"slider\", min:0, max:5, step:1}  # Number of relaxations\n",
        "num_models = 5  #@param {type:\"slider\", min:1, max:5, step:1}  # Number of models\n",
        "num_processes = 2  #@param {type:\"slider\", min:1, max:8, step:1}  # Number of CPU processes for docking\n",
        "gpu_ids = [\"0\"]  #@param {type:\"hidden\"}  # List of GPU IDs, Colab generally has one GPU\n",
        "\n",
        "# @markdown Stopping and relaxation parameters\n",
        "recycle_early_stop_tolerance = 0.3  #@param {type:\"slider\", min:0, max:1, step:0.1}  # Early stop tolerance\n",
        "amber = True  #@param {type:\"boolean\"}  # Whether to use AMBER for relaxation\n",
        "\n",
        "# @markdown Target binding site (optional)\n",
        "binding_site_residue_indices = [44, 49, 74, 82, 89, 105]  #@param {type:\"raw\"}  # Binding site residues\n",
        "\n",
        "# @markdown Objective weights for Bayesian optimization\n",
        "iptm_score_weight = 1.0  #@param {type:\"number\"}\n",
        "interface_sasa_weight = 0.2  #@param {type:\"number\"}\n",
        "interface_dG_weight = 0.2  #@param {type:\"number\"}\n",
        "rosetta_score_weight = 2  #@param {type:\"number\"}\n",
        "interface_delta_hbond_unsat_weight = 0.2  #@param {type:\"number\"}\n",
        "packstat_weight = 0.2  #@param {type:\"number\"}\n",
        "\n",
        "# @markdown Bayesian Optimization Iterations\n",
        "n_initial = 100  #@param {type:\"slider\", min:50, max:1000, step:1}  # Initial number of evaluations\n",
        "n_exploration_iterations = 100  #@param {type:\"slider\", min:50, max:1500, step:1}  # Number of exploration iterations\n",
        "n_exploitation_with_distance_weight = 100  #@param {type:\"slider\", min:50, max:3000, step:50}  # Exploitation iterations with distance weight\n",
        "n_exploitation_iterations = 0  #@param {type:\"slider\", min:0, max:1000, step:1}  # Number of exploitation iterations without distance weight\n",
        "batch_size = 4  #@param {type:\"slider\", min:1, max:32, step:1}  # Batch size for optimization\n",
        "agreeing_models = 0  #@param {type:\"slider\", min:0, max:10, step:1}  # Number of agreeing models to use\n",
        "proximity_threshold = 5.0  #@param {type:\"slider\", min:1, max:20, step:0.5}  # Proximity threshold in Ångstroms\n",
        "hparam_opt_interval = 50  #@param {type:\"slider\", min:10, max:200, step:10}  # Hyperparameter optimization interval\n"
      ]
    },
    {
      "cell_type": "code",
      "execution_count": 7,
      "metadata": {
        "id": "4MDxL37ufKuH"
      },
      "outputs": [],
      "source": [
        "#@title Run bopep!\n",
        "\n",
        "import colabfold\n",
        "from colabfold.utils import setup_model\n",
        "\n",
        "# Set up the model for ColabFold\n",
        "model_runners = setup_model(model_name=\"alphafold2_multimer_v3\", use_msa=False)\n"
      ]
    }
  ],
  "metadata": {
    "accelerator": "GPU",
    "colab": {
      "gpuType": "T4",
      "provenance": [],
      "include_colab_link": true
    },
    "kernelspec": {
      "display_name": ".venv",
      "language": "python",
      "name": "python3"
    },
    "language_info": {
      "codemirror_mode": {
        "name": "ipython",
        "version": 3
      },
      "file_extension": ".py",
      "mimetype": "text/x-python",
      "name": "python",
      "nbconvert_exporter": "python",
      "pygments_lexer": "ipython3",
      "version": "3.10.15"
    }
  },
  "nbformat": 4,
  "nbformat_minor": 0
}