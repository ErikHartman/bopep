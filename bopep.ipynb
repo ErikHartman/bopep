{
  "cells": [
    {
      "cell_type": "markdown",
      "metadata": {
        "id": "view-in-github",
        "colab_type": "text"
      },
      "source": [
        "<a href=\"https://colab.research.google.com/github/ErikHartman/bopep/blob/main/bopep.ipynb\" target=\"_parent\"><img src=\"https://colab.research.google.com/assets/colab-badge.svg\" alt=\"Open In Colab\"/></a>"
      ]
    },
    {
      "cell_type": "markdown",
      "metadata": {
        "id": "X2L-Q7cEeUXx"
      },
      "source": [
        "# bopep: identifying peptide binders in large scale peptidomic data\n",
        "\n",
        "Bayesian optimization guided search for binders in large scale peptidomic datasets.\n",
        "\n",
        "Relies on ESM2 for peptide embeddings, ColabFold utilizing AlphaFold 2 multimer for docking and PyRosetta for interface energy calculations. A deep ensemble is used as a surrogate model utilizing Torch.\n",
        "\n",
        "Set runtime to T4 GPU."
      ]
    },
    {
      "cell_type": "code",
      "execution_count": null,
      "metadata": {
        "id": "wX-T-BaXe8NS"
      },
      "outputs": [],
      "source": [
        "#@title Installation\n",
        "\n",
        "import os\n",
        "\n",
        "print(\"Fetching bopep\")\n",
        "!git clone https://github.com/ErikHartman/bopep /content/bopep/\n",
        "\n",
        "print(\"Installing other necessary packages\")\n",
        "!pip install -r /content/bopep/requirements.txt\n",
        "\n",
        "print(\"Installing ColabFold\")\n",
        "!pip install --quiet colabfold\n",
        "!pip install --quiet biopython\n",
        "\n",
        "print(\"Installing fair-esm\")\n",
        "!pip install --quiet fair-esm\n",
        "\n",
        "# Code to fetch ESM model if it doesn't already exist\n",
        "esm_model_path = \"/root/.cache/torch/hub/checkpoints/esm2_t33_650M_UR50D.pt\"\n",
        "if not os.path.exists(esm_model_path):\n",
        "    print(\"Downloading ESM model...\")\n",
        "    import esm\n",
        "    model, alphabet = esm.pretrained.esm2_t33_650M_UR50D()\n",
        "else:\n",
        "    print(\"ESM model already exists.\")\n",
        "\n",
        "print(\"Installing PyRosetta\")\n",
        "!pip install pyrosettacolabsetup\n",
        "import pyrosettacolabsetup\n",
        "pyrosettacolabsetup.install_pyrosetta(serialization=True, cache_wheel_on_google_drive=False)\n"
      ]
    },
    {
      "cell_type": "code",
      "execution_count": null,
      "metadata": {
        "id": "X-sd12-jfCBl"
      },
      "outputs": [],
      "source": [
        "#@title Embedding settings\n",
        "import pandas as pd\n",
        "\n",
        "%cd bopep\n",
        "\n",
        "# Data input\n",
        "# @markdown Upload your input data file and set the path.\n",
        "data_file = \"/content/bopep/data/test_data.csv\" #@param {type:\"string\"}\n",
        "\n",
        "if not os.path.exists(data_file):\n",
        "  raise ValueError(\"The data file does not exist in the path.\")\n",
        "\n",
        "data = pd.read_csv(data_file)  # Load the CSV file\n",
        "peptides = data[\"peptide\"].tolist()\n",
        "# @markdown  ### Filtering options:\n",
        "\n",
        "# @markdown Set maximum and minimum peptide length\n",
        "max_length = 30  #@param {type:\"slider\", min:10, max:60, step:1}\n",
        "min_length = 5   #@param {type:\"slider\", min:1, max:30, step:1}\n",
        "\n",
        "# @markdown Set maximum repeat length for amino acids\n",
        "max_repeat_length = 5  #@param {type:\"slider\", min:1, max:15, step:1}\n",
        "\n",
        "# @markdown  Set maximum allowed fraction of single amino acids\n",
        "max_single_aa_fraction = 0.73  #@param {type:\"slider\", min:0, max:1, step:0.01}\n",
        "\n",
        "# @markdown  Variance kept during PCA reduction\n",
        "pca_variance = 0.95  #@param {type:\"slider\", min:0.1, max:1, step:0.01}\n"
      ]
    },
    {
      "cell_type": "code",
      "execution_count": null,
      "metadata": {
        "id": "duvhwIxSh338"
      },
      "outputs": [],
      "source": [
        "#@title Generate embeddings\n",
        "from src.embeddings.embed import embed\n",
        "from src.embeddings.utils import filter_peptides\n",
        "from sklearn.decomposition import PCA\n",
        "import numpy as np\n",
        "\n",
        "filtered_peptides = filter_peptides(peptides, max_single_aa_fraction, max_repeat_length, min_length, max_length)\n",
        "embeddings = embed(filtered_peptides, model_path=esm_model_path)\n",
        "\n",
        "if pca_variance < 1:\n",
        "  embedding_array = np.array(list(embeddings.values()))\n",
        "  peptide_sequences = list(embeddings.keys())\n",
        "  pca = PCA(n_components=0.95, svd_solver=\"full\")\n",
        "  embeddings_reduced = pca.fit_transform(embedding_array)\n",
        "  print(f\"Reduced embedding size: {np.shape(embeddings_reduced)} (before PCA: {np.shape(embedding_array)})\")\n",
        "  embeddings = {\n",
        "      peptide_sequences[i]: embeddings_reduced[i] for i in range(len(peptide_sequences))\n",
        "  }\n"
      ]
    },
    {
      "cell_type": "code",
      "execution_count": 4,
      "metadata": {
        "id": "zz07Koj-fIWi"
      },
      "outputs": [],
      "source": [
        "#@title Bayesian optimization settings\n",
        "\n",
        "# Target structure file (PDB format)\n",
        "target_structure = \"/content/bopep/data/4glp.pdb\"  #@param {type:\"string\"}\n",
        "\n",
        "# @markdown Model settings\n",
        "num_recycles = 9  #@param {type:\"slider\", min:1, max:20, step:1}  # Number of recycles for AlphaFold\n",
        "num_relax = 1  #@param {type:\"slider\", min:0, max:5, step:1}  # Number of relaxations\n",
        "num_models = 5  #@param {type:\"slider\", min:1, max:5, step:1}  # Number of models\n",
        "num_processes = 2  #@param {type:\"slider\", min:1, max:8, step:1}  # Number of CPU processes for docking\n",
        "gpu_ids = [\"0\"]  #@param {type:\"hidden\"}  # List of GPU IDs, Colab generally has one GPU\n",
        "\n",
        "# @markdown Stopping and relaxation parameters\n",
        "recycle_early_stop_tolerance = 0.3  #@param {type:\"slider\", min:0, max:1, step:0.1}  # Early stop tolerance\n",
        "amber = True  #@param {type:\"boolean\"}  # Whether to use AMBER for relaxation\n",
        "\n",
        "# @markdown Target binding site (optional)\n",
        "binding_site_residue_indices = [44, 49, 74, 82, 89, 105]  #@param {type:\"raw\"}  # Binding site residues\n",
        "\n",
        "# @markdown Objective weights for Bayesian optimization\n",
        "iptm_score_weight = 1.0  #@param {type:\"number\"}\n",
        "interface_sasa_weight = 0.2  #@param {type:\"number\"}\n",
        "interface_dG_weight = 0.2  #@param {type:\"number\"}\n",
        "rosetta_score_weight = 2  #@param {type:\"number\"}\n",
        "interface_delta_hbond_unsat_weight = 0.2  #@param {type:\"number\"}\n",
        "packstat_weight = 0.2  #@param {type:\"number\"}\n",
        "\n",
        "# @markdown Bayesian Optimization Iterations\n",
        "n_initial = 100  #@param {type:\"slider\", min:50, max:1000, step:1}  # Initial number of evaluations\n",
        "n_exploration_iterations = 100  #@param {type:\"slider\", min:50, max:1500, step:1}  # Number of exploration iterations\n",
        "n_exploitation_with_distance_weight = 100  #@param {type:\"slider\", min:50, max:3000, step:50}  # Exploitation iterations with distance weight\n",
        "n_exploitation_iterations = 0  #@param {type:\"slider\", min:0, max:1000, step:1}  # Number of exploitation iterations without distance weight\n",
        "batch_size = 4  #@param {type:\"slider\", min:1, max:32, step:1}  # Batch size for optimization\n",
        "agreeing_models = 0  #@param {type:\"slider\", min:0, max:10, step:1}  # Number of agreeing models to use\n",
        "proximity_threshold = 5.0  #@param {type:\"slider\", min:1, max:20, step:0.5}  # Proximity threshold in Ångstroms\n",
        "hparam_opt_interval = 50  #@param {type:\"slider\", min:10, max:200, step:10}  # Hyperparameter optimization interval\n"
      ]
    },
    {
      "cell_type": "code",
      "execution_count": 5,
      "metadata": {
        "id": "QKSu6-tsfP9l"
      },
      "outputs": [],
      "source": [
        "#@title Initialize PyRosetta"
      ]
    },
    {
      "cell_type": "code",
      "execution_count": 6,
      "metadata": {
        "id": "4MDxL37ufKuH"
      },
      "outputs": [],
      "source": [
        "#@title Run bopep!"
      ]
    }
  ],
  "metadata": {
    "colab": {
      "provenance": [],
      "gpuType": "T4",
      "include_colab_link": true
    },
    "kernelspec": {
      "display_name": "Python 3",
      "name": "python3"
    },
    "language_info": {
      "codemirror_mode": {
        "name": "ipython",
        "version": 3
      },
      "file_extension": ".py",
      "mimetype": "text/x-python",
      "name": "python",
      "nbconvert_exporter": "python",
      "pygments_lexer": "ipython3",
      "version": "3.10.15"
    },
    "accelerator": "GPU"
  },
  "nbformat": 4,
  "nbformat_minor": 0
}